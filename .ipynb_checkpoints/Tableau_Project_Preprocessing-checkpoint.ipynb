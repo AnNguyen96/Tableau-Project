{
 "cells": [
  {
   "cell_type": "markdown",
   "id": "172b1a1f",
   "metadata": {},
   "source": [
    "# TABLEAU PROJECT _ SEEK Job Listing in Australia's 30 Biggest Cities\n",
    "## Nguyen Phuc An\n",
    "#### Feb - Mar 2023"
   ]
  },
  {
   "cell_type": "code",
   "execution_count": 1,
   "id": "ff93c34c",
   "metadata": {},
   "outputs": [],
   "source": [
    "import pandas as pd"
   ]
  },
  {
   "cell_type": "markdown",
   "id": "d86b151d",
   "metadata": {},
   "source": [
    "Read csv file"
   ]
  },
  {
   "cell_type": "code",
   "execution_count": 2,
   "id": "3f9d3218",
   "metadata": {},
   "outputs": [],
   "source": [
    "latlon_df = pd.read_csv('dataset/au.csv')\n",
    "seek_df = pd.read_csv('dataset/seek_australia.csv')"
   ]
  },
  {
   "cell_type": "markdown",
   "id": "7755c1a7",
   "metadata": {},
   "source": [
    "Remove unnecessary columns and change column name"
   ]
  },
  {
   "cell_type": "code",
   "execution_count": 3,
   "id": "06303582",
   "metadata": {},
   "outputs": [],
   "source": [
    "# Remove unnecessary columns for lat lon dataset\n",
    "latlon_df.drop(columns=['country', 'iso2', 'capital', 'population', 'population_proper'], axis=1, inplace=True)\n",
    "\n",
    "# Change column name\n",
    "latlon_df.rename({'admin_name': 'state'}, axis=1, inplace=True)\n",
    "\n",
    "# Remove unnecessary columns for seek dataset\n",
    "seek_df.drop(columns=['geo', 'job_board', 'job_description', 'url', 'state'], axis=1, inplace=True)\n",
    "\n",
    "# Split post_date with only date\n",
    "seek_df['post_date'] = seek_df['post_date'].str.split('T', expand = True)[0]\n",
    "\n",
    "# Split city \n",
    "seek_df['city'] = seek_df['city'].str.split('&', expand = True)[0]\n",
    "\n",
    "# Rename ACT to Canberra\n",
    "seek_df['city'] = seek_df['city'].replace(['ACT'], 'Canberra')"
   ]
  },
  {
   "cell_type": "markdown",
   "id": "590d1f54",
   "metadata": {},
   "source": [
    "Choose the top 30 biggest cities in Australia \n",
    "https://metropole.com.au/australias-50-largest-cities/"
   ]
  },
  {
   "cell_type": "code",
   "execution_count": 4,
   "id": "ba58c155",
   "metadata": {},
   "outputs": [],
   "source": [
    "cities = ['Sydney', 'Melbourne', 'Brisbane', 'Perth', 'Adelaide', 'Gold Coast', 'Newcastle', \n",
    "          'Canberra', 'Central Coast', 'Wollongong', 'Geelong', 'Hobart', 'Townsville', \n",
    "          'Cairns', 'Toowoomba', 'Darwin', 'Ballarat', 'Bendigo', 'Albury', \n",
    "          'Launceston', 'Mackay', 'Rockhampton', 'Melton', 'Bunbury', 'Coffs Harbour',\n",
    "          'Bundaberg', 'Wagga Wagga', 'Hervey Bay', 'Shepparton', 'Mildura']\n",
    "\n",
    "# select top 30 cities\n",
    "latlon_df = latlon_df[latlon_df['city'].isin(cities)]\n",
    "seek_df = seek_df[seek_df['city'].isin(cities)]"
   ]
  },
  {
   "cell_type": "markdown",
   "id": "64e29a05",
   "metadata": {},
   "source": [
    "Merge 2 dataframes into `final_df`"
   ]
  },
  {
   "cell_type": "code",
   "execution_count": 5,
   "id": "7a7abe95",
   "metadata": {},
   "outputs": [
    {
     "data": {
      "text/plain": [
       "(24794, 10)"
      ]
     },
     "execution_count": 5,
     "metadata": {},
     "output_type": "execute_result"
    }
   ],
   "source": [
    "final_df = seek_df.merge(latlon_df.drop_duplicates(subset=['city']), how='left')\n",
    "final_df.shape"
   ]
  },
  {
   "cell_type": "code",
   "execution_count": 6,
   "id": "4775a758",
   "metadata": {},
   "outputs": [
    {
     "data": {
      "text/html": [
       "<div>\n",
       "<style scoped>\n",
       "    .dataframe tbody tr th:only-of-type {\n",
       "        vertical-align: middle;\n",
       "    }\n",
       "\n",
       "    .dataframe tbody tr th {\n",
       "        vertical-align: top;\n",
       "    }\n",
       "\n",
       "    .dataframe thead th {\n",
       "        text-align: right;\n",
       "    }\n",
       "</style>\n",
       "<table border=\"1\" class=\"dataframe\">\n",
       "  <thead>\n",
       "    <tr style=\"text-align: right;\">\n",
       "      <th></th>\n",
       "      <th>category</th>\n",
       "      <th>city</th>\n",
       "      <th>company_name</th>\n",
       "      <th>job_title</th>\n",
       "      <th>job_type</th>\n",
       "      <th>post_date</th>\n",
       "      <th>salary_offered</th>\n",
       "      <th>lat</th>\n",
       "      <th>lng</th>\n",
       "      <th>state</th>\n",
       "    </tr>\n",
       "  </thead>\n",
       "  <tbody>\n",
       "    <tr>\n",
       "      <th>0</th>\n",
       "      <td>Retail &amp; Consumer Products</td>\n",
       "      <td>Sydney</td>\n",
       "      <td>Frontline Executive Retail Sydney</td>\n",
       "      <td>Store Manager - Fresh Produce</td>\n",
       "      <td>Full Time</td>\n",
       "      <td>2018-04-15</td>\n",
       "      <td>$100k Base + Super + Benefits</td>\n",
       "      <td>-33.8650</td>\n",
       "      <td>151.2094</td>\n",
       "      <td>New South Wales</td>\n",
       "    </tr>\n",
       "    <tr>\n",
       "      <th>1</th>\n",
       "      <td>Government &amp; Defence</td>\n",
       "      <td>Brisbane</td>\n",
       "      <td>Powerlink</td>\n",
       "      <td>Client Solution Analyst</td>\n",
       "      <td>Full Time</td>\n",
       "      <td>2018-04-15</td>\n",
       "      <td>Excellent remuneration packages</td>\n",
       "      <td>-27.4678</td>\n",
       "      <td>153.0281</td>\n",
       "      <td>Queensland</td>\n",
       "    </tr>\n",
       "    <tr>\n",
       "      <th>2</th>\n",
       "      <td>Trades &amp; Services</td>\n",
       "      <td>Sydney</td>\n",
       "      <td>Richard Jay Laundry</td>\n",
       "      <td>Service Technician / Installer - NSW</td>\n",
       "      <td>Full Time</td>\n",
       "      <td>2018-04-15</td>\n",
       "      <td>NaN</td>\n",
       "      <td>-33.8650</td>\n",
       "      <td>151.2094</td>\n",
       "      <td>New South Wales</td>\n",
       "    </tr>\n",
       "    <tr>\n",
       "      <th>3</th>\n",
       "      <td>Trades &amp; Services</td>\n",
       "      <td>Melbourne</td>\n",
       "      <td>Adaptalift Hyster</td>\n",
       "      <td>Workshop Technician I Material Handling Equipment</td>\n",
       "      <td>Full Time</td>\n",
       "      <td>2018-04-16</td>\n",
       "      <td>NaN</td>\n",
       "      <td>-37.8136</td>\n",
       "      <td>144.9631</td>\n",
       "      <td>Victoria</td>\n",
       "    </tr>\n",
       "    <tr>\n",
       "      <th>4</th>\n",
       "      <td>Trades &amp; Services</td>\n",
       "      <td>Adelaide</td>\n",
       "      <td>Bakers Delight G&amp;M</td>\n",
       "      <td>APPRENTICESHIP JUNIOR BAKER</td>\n",
       "      <td>Full Time</td>\n",
       "      <td>2018-04-16</td>\n",
       "      <td>NaN</td>\n",
       "      <td>-34.9289</td>\n",
       "      <td>138.6011</td>\n",
       "      <td>South Australia</td>\n",
       "    </tr>\n",
       "  </tbody>\n",
       "</table>\n",
       "</div>"
      ],
      "text/plain": [
       "                     category       city                       company_name  \\\n",
       "0  Retail & Consumer Products     Sydney  Frontline Executive Retail Sydney   \n",
       "1        Government & Defence   Brisbane                          Powerlink   \n",
       "2           Trades & Services     Sydney                Richard Jay Laundry   \n",
       "3           Trades & Services  Melbourne                  Adaptalift Hyster   \n",
       "4           Trades & Services   Adelaide                 Bakers Delight G&M   \n",
       "\n",
       "                                           job_title   job_type   post_date  \\\n",
       "0                      Store Manager - Fresh Produce  Full Time  2018-04-15   \n",
       "1                            Client Solution Analyst  Full Time  2018-04-15   \n",
       "2               Service Technician / Installer - NSW  Full Time  2018-04-15   \n",
       "3  Workshop Technician I Material Handling Equipment  Full Time  2018-04-16   \n",
       "4                        APPRENTICESHIP JUNIOR BAKER  Full Time  2018-04-16   \n",
       "\n",
       "                    salary_offered      lat       lng            state  \n",
       "0    $100k Base + Super + Benefits -33.8650  151.2094  New South Wales  \n",
       "1  Excellent remuneration packages -27.4678  153.0281       Queensland  \n",
       "2                              NaN -33.8650  151.2094  New South Wales  \n",
       "3                              NaN -37.8136  144.9631         Victoria  \n",
       "4                              NaN -34.9289  138.6011  South Australia  "
      ]
     },
     "execution_count": 6,
     "metadata": {},
     "output_type": "execute_result"
    }
   ],
   "source": [
    "final_df.head()"
   ]
  },
  {
   "cell_type": "markdown",
   "id": "6a6e1c19",
   "metadata": {},
   "source": [
    "Write `final_df` to csv file"
   ]
  },
  {
   "cell_type": "code",
   "execution_count": 7,
   "id": "ee82bd8d",
   "metadata": {},
   "outputs": [],
   "source": [
    "final_df.to_csv('seek.csv',index=False)"
   ]
  }
 ],
 "metadata": {
  "kernelspec": {
   "display_name": "Python 3 (ipykernel)",
   "language": "python",
   "name": "python3"
  },
  "language_info": {
   "codemirror_mode": {
    "name": "ipython",
    "version": 3
   },
   "file_extension": ".py",
   "mimetype": "text/x-python",
   "name": "python",
   "nbconvert_exporter": "python",
   "pygments_lexer": "ipython3",
   "version": "3.9.7"
  }
 },
 "nbformat": 4,
 "nbformat_minor": 5
}
